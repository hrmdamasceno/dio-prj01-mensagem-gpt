{
 "cells": [
  {
   "cell_type": "code",
   "execution_count": 30,
   "metadata": {},
   "outputs": [],
   "source": [
    "import pandas as pd\n",
    "import requests\n",
    "import json\n",
    "import random\n",
    "import openai\n",
    "\n",
    "URL_BASE_API_SDW = \"https://sdw-2023-prd.up.railway.app/\"\n",
    "openai.api_key = pd.read_csv(\"../credentials/credentials.csv\")[\"gpt_key\"][0]"
   ]
  },
  {
   "cell_type": "code",
   "execution_count": 31,
   "metadata": {},
   "outputs": [],
   "source": [
    "# Função para buscar dados dos clientes/usuarios\n",
    "def get_user(id):\n",
    "    response = requests.get(f\"{URL_BASE_API_SDW}users/{id}\")\n",
    "\n",
    "    return response.json() if response.status_code == 200 else None"
   ]
  },
  {
   "cell_type": "code",
   "execution_count": 32,
   "metadata": {},
   "outputs": [],
   "source": [
    "# Busca os usuarios que existem dentro da API, para não trabalharmos com usuários não cadastrados\n",
    "valid_users = requests.get(f'{URL_BASE_API_SDW}users')\n",
    "\n",
    "# Seleciona aleatoriamente, 10 IDs para o projeto\n",
    "ids = random.sample([x[\"id\"] for x in valid_users.json()],2)"
   ]
  },
  {
   "cell_type": "code",
   "execution_count": 33,
   "metadata": {},
   "outputs": [],
   "source": [
    "# Busca dados de cada usuário\n",
    "users =  [get_user(x) for x in ids]"
   ]
  },
  {
   "cell_type": "code",
   "execution_count": 34,
   "metadata": {},
   "outputs": [],
   "source": [
    "# Função responsável por criar mensagem de marketing para base de clientes\n",
    "def generate_marketing(user):\n",
    "    completion = openai.ChatCompletion.create(\n",
    "        model=\"gpt-3.5-turbo-0613\",\n",
    "        messages=[\n",
    "            {\"role\": \"system\", \n",
    "            \"content\": \"Você é um gerente de marketing da empresa de celular Samsung\"},\n",
    "            {\"role\": \"user\",\n",
    "             \"content\": f\"Crie uma mensagem de marketing personalizada para {user['name']} (resposta limitada a 20 palavras)\"}\n",
    "        ]\n",
    "    )\n",
    "\n",
    "    return completion.choices[0].message[\"content\"].strip('\"')"
   ]
  },
  {
   "cell_type": "code",
   "execution_count": 35,
   "metadata": {},
   "outputs": [],
   "source": [
    "# Loop que usa função para gerar mensagem e atualizar dados.\n",
    "for user in users:\n",
    "    news = generate_marketing(user)\n",
    "    user['news'].append({\n",
    "        \"icon\":\"https://github.com/hrmdamasceno/dio-prj01-mensagem-gpt/blob/2b43cc9e3a3274b0e0d062d37d1c5586ad474c24/data/phone.svg\",\n",
    "        \"description\": news}\n",
    "    )"
   ]
  },
  {
   "cell_type": "code",
   "execution_count": 36,
   "metadata": {},
   "outputs": [],
   "source": [
    "# Função para realizar carregamento das mensagens geradas\n",
    "def update_user(user):\n",
    "    response = requests.put(f\"{URL_BASE_API_SDW}users/{user['id']}\", json=user)\n",
    "    return True if response.status_code == 200 else (False, response.status_code)"
   ]
  },
  {
   "cell_type": "code",
   "execution_count": 37,
   "metadata": {},
   "outputs": [
    {
     "name": "stdout",
     "output_type": "stream",
     "text": [
      "User Pyterson was updated? True\n",
      "User lalala was updated? True\n"
     ]
    }
   ],
   "source": [
    "# Utiliza função para realizar um update nos dados\n",
    "for user in users:\n",
    "    success = update_user(user)\n",
    "    print(f\"User {user['name']} was updated? {success}\")"
   ]
  }
 ],
 "metadata": {
  "kernelspec": {
   "display_name": "base",
   "language": "python",
   "name": "python3"
  },
  "language_info": {
   "codemirror_mode": {
    "name": "ipython",
    "version": 3
   },
   "file_extension": ".py",
   "mimetype": "text/x-python",
   "name": "python",
   "nbconvert_exporter": "python",
   "pygments_lexer": "ipython3",
   "version": "3.10.9"
  },
  "orig_nbformat": 4
 },
 "nbformat": 4,
 "nbformat_minor": 2
}

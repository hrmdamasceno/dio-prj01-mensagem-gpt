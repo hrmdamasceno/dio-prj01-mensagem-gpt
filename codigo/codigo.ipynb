{
 "cells": [
  {
   "cell_type": "code",
   "execution_count": 47,
   "metadata": {},
   "outputs": [],
   "source": [
    "import pandas as pd\n",
    "import requests\n",
    "import json\n",
    "import random\n",
    "import openai\n",
    "\n",
    "URL_BASE_API_SDW = \"https://sdw-2023-prd.up.railway.app/\"\n",
    "openai.api_key = pd.read_csv(\"../credentials/credentials.csv\")[\"gpt_key\"][0]"
   ]
  },
  {
   "cell_type": "code",
   "execution_count": 48,
   "metadata": {},
   "outputs": [],
   "source": [
    "# Função para buscar dados dos clientes/usuarios\n",
    "def get_user(id):\n",
    "    response = requests.get(f\"{URL_BASE_API_SDW}users/{id}\")\n",
    "\n",
    "    return response.json() if response.status_code == 200 else None"
   ]
  },
  {
   "cell_type": "code",
   "execution_count": 49,
   "metadata": {},
   "outputs": [],
   "source": [
    "# Busca os usuarios que existem dentro da API, para não trabalharmos com usuários não cadastrados\n",
    "valid_users = requests.get(f'{URL_BASE_API_SDW}users')\n",
    "\n",
    "# Seleciona aleatoriamente, 10 IDs para o projeto\n",
    "ids = random.sample([x[\"id\"] for x in valid_users.json()],10)"
   ]
  },
  {
   "cell_type": "code",
   "execution_count": 50,
   "metadata": {},
   "outputs": [],
   "source": [
    "# Busca dados de cada usuário\n",
    "users =  [get_user(x) for x in ids]"
   ]
  },
  {
   "cell_type": "code",
   "execution_count": 51,
   "metadata": {},
   "outputs": [],
   "source": [
    "# Esse dicionário deverá coletar os dados extraídos \n",
    "users_data = {  \"id\":     [x[\"id\"] for x in users],\n",
    "                \"name\":   [x[\"name\"] for x in users]}\n",
    "\n",
    "# Os dados serão adicionados aos já inseridos no users_data\n",
    "for k in users:\n",
    "    for i, j in k.items():\n",
    "        if i in [\"id\",\"name\"]:\n",
    "            continue\n",
    "\n",
    "        elif i in [\"features\",\"news\"]:\n",
    "            continue\n",
    "        \n",
    "        else:\n",
    "            for l, m in j.items():\n",
    "                column_name = f\"{i}_{l}\"\n",
    "\n",
    "                if not(column_name in users_data.keys()):\n",
    "                    users_data[column_name] = []\n",
    "                \n",
    "                users_data[column_name].append(m)\n",
    "\n",
    "# Transforma users_data em dataframe para manuseio futuro\n",
    "users_data = pd.DataFrame(users_data)"
   ]
  },
  {
   "cell_type": "code",
   "execution_count": 67,
   "metadata": {},
   "outputs": [],
   "source": [
    "def generate_marketing(name):\n",
    "    completion = openai.ChatCompletion.create(\n",
    "        model=\"gpt-3.5-turbo-0613\",\n",
    "        messages=[\n",
    "            {\"role\": \"system\", \n",
    "            \"content\": \"Você é um gerente de marketing da empresa de celular Samsung\"},\n",
    "            {\"role\": \"user\",\n",
    "             \"content\": f\"Crie uma mensagem de marketing personalizada para {name} (resposta limitada a 50 tokens)\"}\n",
    "        ]\n",
    "    )\n",
    "    return completion.choices[0].message[\"content\"].strip('\"')"
   ]
  },
  {
   "cell_type": "code",
   "execution_count": 68,
   "metadata": {},
   "outputs": [],
   "source": [
    "base_marketing = {\n",
    "    \"name\":[],\n",
    "    \"menssage\": []\n",
    "}\n",
    "\n",
    "for nome in random.sample(list(users_data[\"name\"]),3):\n",
    "    base_marketing[\"name\"].append(nome)\n",
    "    base_marketing[\"menssage\"].append(generate_marketing(nome))\n",
    "\n",
    "base_marketing = pd.DataFrame(base_marketing)"
   ]
  },
  {
   "cell_type": "code",
   "execution_count": null,
   "metadata": {},
   "outputs": [],
   "source": [
    "#TODO Falta implementar sistema de carregamento do conteúdo, já enriquecido."
   ]
  }
 ],
 "metadata": {
  "kernelspec": {
   "display_name": "base",
   "language": "python",
   "name": "python3"
  },
  "language_info": {
   "codemirror_mode": {
    "name": "ipython",
    "version": 3
   },
   "file_extension": ".py",
   "mimetype": "text/x-python",
   "name": "python",
   "nbconvert_exporter": "python",
   "pygments_lexer": "ipython3",
   "version": "3.10.9"
  },
  "orig_nbformat": 4
 },
 "nbformat": 4,
 "nbformat_minor": 2
}

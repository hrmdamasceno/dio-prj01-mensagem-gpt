{
 "cells": [
  {
   "cell_type": "code",
   "execution_count": 1,
   "metadata": {},
   "outputs": [],
   "source": [
    "import pandas as pd\n",
    "import requests\n",
    "\n",
    "URL_BASE_API_SDW = \"https://sdw-2023-prd.up.railway.app/\""
   ]
  },
  {
   "cell_type": "code",
   "execution_count": 2,
   "metadata": {},
   "outputs": [],
   "source": [
    "# Função para buscar dados dos clientes/usuarios\n",
    "def get_user(id = \"all\"):\n",
    "\n",
    "    argument = f\"{URL_BASE_API_SDW}users\"\n",
    "\n",
    "    if id != \"all\":\n",
    "        argument+= f\"/{id}\"\n",
    "\n",
    "    response = requests.get(argument)\n",
    "\n",
    "    return response.json() if response.status_code == 200 else None"
   ]
  },
  {
   "cell_type": "code",
   "execution_count": 3,
   "metadata": {},
   "outputs": [
    {
     "name": "stderr",
     "output_type": "stream",
     "text": [
      "C:\\Users\\damas\\AppData\\Local\\Temp\\ipykernel_9580\\3336957524.py:5: FutureWarning: The default dtype for empty Series will be 'object' instead of 'float64' in a future version. Specify a dtype explicitly to silence this warning.\n",
      "  users = pd.concat([users.drop([\"account\"], axis=1), users[\"account\"].apply(pd.Series).add_prefix(\"account_\")], axis=1)\n",
      "C:\\Users\\damas\\AppData\\Local\\Temp\\ipykernel_9580\\3336957524.py:6: FutureWarning: The default dtype for empty Series will be 'object' instead of 'float64' in a future version. Specify a dtype explicitly to silence this warning.\n",
      "  users = pd.concat([users.drop([\"card\"], axis=1), users[\"card\"].apply(pd.Series).add_prefix('card_')], axis=1)\n"
     ]
    }
   ],
   "source": [
    "# Busca dados de cada usuário\n",
    "users = pd.DataFrame(get_user())\n",
    "\n",
    "# Amplia as colunas para dados contidos nas colunas \"account\" e \"card\"\n",
    "users = pd.concat([users.drop([\"account\"], axis=1), users[\"account\"].apply(pd.Series).add_prefix(\"account_\")], axis=1)\n",
    "users = pd.concat([users.drop([\"card\"], axis=1), users[\"card\"].apply(pd.Series).add_prefix('card_')], axis=1)"
   ]
  },
  {
   "cell_type": "code",
   "execution_count": 4,
   "metadata": {},
   "outputs": [],
   "source": [
    "# Define base de dados apenas com variáveis de interesse\n",
    "data = users[['id', 'name', 'account_balance', 'account_limit', 'card_limit']].fillna(0)"
   ]
  },
  {
   "cell_type": "code",
   "execution_count": 5,
   "metadata": {},
   "outputs": [],
   "source": [
    "# Função que cria os grupos. Pode ser adaptado para uso de método de 'clustering'\n",
    "def create_group(df, data_column, group_column):\n",
    "    df = df.copy()\n",
    "\n",
    "    # Calcula os percentis para determinar os limites dos grupos\n",
    "    limite_classe_a = df[data_column].quantile(0.9)\n",
    "    limite_classe_b = df[data_column].quantile(0.5)\n",
    "\n",
    "    # Crie a nova coluna com base nos limites\n",
    "    df[group_column] = 'negative'  # Inicialize como 'negativado'\n",
    "    df.loc[df[data_column] > limite_classe_a, group_column] = 'A'\n",
    "    df.loc[(df[data_column] <= limite_classe_a) & (df[data_column] > limite_classe_b), group_column] = 'B'\n",
    "    df.loc[(df[data_column] <= limite_classe_b) & (df[data_column] >= 0), group_column] = 'C'\n",
    "\n",
    "    return df"
   ]
  },
  {
   "cell_type": "code",
   "execution_count": 6,
   "metadata": {},
   "outputs": [],
   "source": [
    "# Para cria coluna de classificação para cada coluna de interesse\n",
    "for var in ['account_balance', 'account_limit', 'card_limit']:\n",
    "    data = create_group(data, f\"{var}\",f\"{var}_group\")"
   ]
  },
  {
   "cell_type": "markdown",
   "metadata": {},
   "source": [
    "Por fim, o dataframe gerado apresenta não só os valores atribuidos para balanço de conta, limite de conta e limite de cartão, mas também classificação destes valores de acordo com o grupo a que pertencem: A, caso estejam entre os 10% de maior valor; B, caso estejam entre os seguintes 40%; C caso estejam entre os 50% menores valores e não negativos, e negative, para aqueles que apresentaram valores negativos, que podem tanto representar pessoas com dívida no banco quanto pessoas com valores atribuidos de maneira errônea, caso o valor não pudesse ser negativo."
   ]
  }
 ],
 "metadata": {
  "kernelspec": {
   "display_name": "base",
   "language": "python",
   "name": "python3"
  },
  "language_info": {
   "codemirror_mode": {
    "name": "ipython",
    "version": 3
   },
   "file_extension": ".py",
   "mimetype": "text/x-python",
   "name": "python",
   "nbconvert_exporter": "python",
   "pygments_lexer": "ipython3",
   "version": "3.10.9"
  },
  "orig_nbformat": 4
 },
 "nbformat": 4,
 "nbformat_minor": 2
}
